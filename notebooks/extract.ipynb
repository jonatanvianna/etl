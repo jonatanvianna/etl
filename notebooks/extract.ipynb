{
 "cells": [
  {
   "cell_type": "markdown",
   "metadata": {
    "collapsed": true,
    "pycharm": {
     "name": "#%% md\n"
    }
   },
   "source": [
    "## Extract Phase.\n",
    "#### Donwloads from datasource tar.gz files containing geographical coordinates, saves and extracts on a destination folder.\n",
    "The `extract_from_source()` is a python module that receives a url containing a `tar.gz` datasource, a destination directory and a flag to exctract the content.\n",
    "The output is files extracted at destination directory.\n",
    "\n",
    "\n"
   ]
  },
  {
   "cell_type": "code",
   "execution_count": 3,
   "metadata": {
    "pycharm": {
     "is_executing": false,
     "name": "#%%\n"
    }
   },
   "outputs": [
    {
     "name": "stdout",
     "output_type": "stream",
     "text": [
      "File downloaded from https://s3.amazonaws.com/dev.etl.python/datasets/data_points.tar.gz to /app/data_from_source/data_points.tar.gz.\n",
      "Files extracted at /app/data_from_source directory.\n"
     ]
    }
   ],
   "source": [
    "\n",
    "from extract.extract_targz_from_source import extract_from_source\n",
    "\n",
    "source = \"https://s3.amazonaws.com/dev.etl.python/datasets/data_points.tar.gz\"\n",
    "destination_path = \"/app/data_from_source\"\n",
    "extract = True\n",
    "\n",
    "\n",
    "extract_from_source(source, destination_path, extract)\n"
   ]
  }
 ],
 "metadata": {
  "kernelspec": {
   "display_name": "Python 3",
   "language": "python",
   "name": "python3"
  },
  "language_info": {
   "codemirror_mode": {
    "name": "ipython",
    "version": 3
   },
   "file_extension": ".py",
   "mimetype": "text/x-python",
   "name": "python",
   "nbconvert_exporter": "python",
   "pygments_lexer": "ipython3",
   "version": "3.6.8"
  },
  "pycharm": {
   "stem_cell": {
    "cell_type": "raw",
    "source": [],
    "metadata": {
     "collapsed": false
    }
   }
  }
 },
 "nbformat": 4,
 "nbformat_minor": 1
}