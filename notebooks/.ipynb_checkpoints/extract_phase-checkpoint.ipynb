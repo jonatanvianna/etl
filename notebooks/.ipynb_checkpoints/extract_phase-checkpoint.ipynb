{
 "cells": [
  {
   "cell_type": "code",
   "execution_count": 11,
   "metadata": {
    "pycharm": {
     "is_executing": false
    }
   },
   "outputs": [],
   "source": [
    "from typing import Union, Any, List, Optional, cast\n",
    "from extract import convert_to_list\n",
    "\n",
    "points_list = convert_to_list(['data_points_20180101.txt', 'data_points_20180102.txt', 'data_points_20180103.txt'], 3)\n"
   ]
  },
  {
   "cell_type": "code",
   "execution_count": 12,
   "metadata": {
    "pycharm": {
     "is_executing": false,
     "metadata": false,
     "name": "#%%\n"
    }
   },
   "outputs": [],
   "source": [
    "\n",
    "import re\n",
    "from typing import Union, Any, List, Optional, cast\n",
    "\n",
    "COORDINATES = r'(\\d+.?\\d+.?\\d+.?[S|N|W|E])\\s*'\n",
    "DECIMAL = r'(-?\\d+\\.?\\d+)'\n",
    "CAPTURE_LONGITUDE = re.compile(rf'(\\s*Longitude:)\\s*{COORDINATES}{DECIMAL}')\n",
    "CAPTURE_LATITUDE = re.compile(rf'(\\s*Latitude:\\s*){COORDINATES}{DECIMAL}')\n",
    "CAPTURE_DISTANCE = re.compile(rf'(\\s*Distance:\\s*){DECIMAL}')\n",
    "CAPTURE_BEARING = re.compile(rf'(\\s*Bearing:\\s*){DECIMAL}')\n",
    "\n",
    "\n",
    "def convert_coordinate_list_to_csv(master_list: List[List[str]]) -> None:\n",
    "    \"\"\"Converts a file of coordinates into a csv file\"\"\"\n",
    "    ml = []\n",
    "    for n, line_list in enumerate(master_list):\n",
    "        # Initializing variables, if no data is found a dash is placed\n",
    "        latitude_coordinate = '-'\n",
    "        latitude_degree = '-'\n",
    "        longitude_coordinate = '-'\n",
    "        longitude_degree = '-'\n",
    "        distance_km = '-'\n",
    "        bearing_degrees = '-'\n",
    "\n",
    "        for i in line_list:\n",
    "            latitude = re.search(CAPTURE_LATITUDE, i)\n",
    "            longitude = re.search(CAPTURE_LONGITUDE, i)\n",
    "            distance = re.search(CAPTURE_DISTANCE, i)\n",
    "            bearing = re.search(CAPTURE_BEARING, i)\n",
    "\n",
    "\n",
    "            if latitude:\n",
    "                latitude_coordinate = latitude.group(2)\n",
    "                latitude_degree = latitude.group(3)\n",
    "\n",
    "            elif longitude:\n",
    "                longitude_coordinate = longitude.group(2)\n",
    "                longitude_degree = longitude.group(3)\n",
    "\n",
    "            if distance:\n",
    "                distance_km = distance.group(2)\n",
    "\n",
    "            if bearing:\n",
    "                bearing_degrees = bearing.group(2)\n",
    "\n",
    "        ml.append({'latitude_coordinate': latitude_coordinate,\n",
    "                     'latitude_degree': latitude_degree,\n",
    "                     'longitude_coordinate': longitude_coordinate, \n",
    "                     'longitude_degree': longitude_degree,\n",
    "                     'distance_km': distance_km,\n",
    "                     'bearing_degrees': bearing_degrees})\n",
    "    return ml\n",
    "        # assert len(line_list) == 3, f\"Length of line_list is 3, but {len(line_list)}\"\n",
    "        # assert len(master_list) == 998, f\"Length of master_list is 3, but {len(master_list)}\"\n",
    "ml = convert_coordinate_list_to_csv(points_list)\n"
   ]
  },
  {
   "cell_type": "markdown",
   "metadata": {
    "pycharm": {
     "metadata": false,
     "name": "#%% md\n"
    }
   },
   "source": [
    "### Write to csv file"
   ]
  },
  {
   "cell_type": "code",
   "execution_count": 13,
   "metadata": {
    "pycharm": {
     "metadata": false,
     "name": "#%% \n"
    }
   },
   "outputs": [
    {
     "ename": "AttributeError",
     "evalue": "'dict' object has no attribute 'latitude_coordinate'",
     "output_type": "error",
     "traceback": [
      "\u001b[0;31m---------------------------------------------------------------------------\u001b[0m",
      "\u001b[0;31mAttributeError\u001b[0m                            Traceback (most recent call last)",
      "\u001b[0;32m<ipython-input-13-1ac9c83d0398>\u001b[0m in \u001b[0;36m<module>\u001b[0;34m\u001b[0m\n\u001b[1;32m     11\u001b[0m     \u001b[0mwriter\u001b[0m \u001b[0;34m=\u001b[0m \u001b[0mcsv\u001b[0m\u001b[0;34m.\u001b[0m\u001b[0mDictWriter\u001b[0m\u001b[0;34m(\u001b[0m\u001b[0mcsv_file\u001b[0m\u001b[0;34m,\u001b[0m \u001b[0mfieldnames\u001b[0m\u001b[0;34m=\u001b[0m\u001b[0mfieldnames\u001b[0m\u001b[0;34m)\u001b[0m\u001b[0;34m\u001b[0m\u001b[0;34m\u001b[0m\u001b[0m\n\u001b[1;32m     12\u001b[0m     \u001b[0;32mfor\u001b[0m \u001b[0mline\u001b[0m \u001b[0;32min\u001b[0m \u001b[0mml\u001b[0m\u001b[0;34m:\u001b[0m\u001b[0;34m\u001b[0m\u001b[0;34m\u001b[0m\u001b[0m\n\u001b[0;32m---> 13\u001b[0;31m         writer.writerow({'latitude_coordinate': line.latitude_coordinate,\n\u001b[0m\u001b[1;32m     14\u001b[0m                          \u001b[0;34m'latitude_degree'\u001b[0m\u001b[0;34m:\u001b[0m \u001b[0mline\u001b[0m\u001b[0;34m.\u001b[0m\u001b[0mlatitude_degree\u001b[0m\u001b[0;34m,\u001b[0m\u001b[0;34m\u001b[0m\u001b[0;34m\u001b[0m\u001b[0m\n\u001b[1;32m     15\u001b[0m                          \u001b[0;34m'longitude_coordinate'\u001b[0m\u001b[0;34m:\u001b[0m \u001b[0mline\u001b[0m\u001b[0;34m.\u001b[0m\u001b[0mlongitude_coordinate\u001b[0m\u001b[0;34m,\u001b[0m\u001b[0;34m\u001b[0m\u001b[0;34m\u001b[0m\u001b[0m\n",
      "\u001b[0;31mAttributeError\u001b[0m: 'dict' object has no attribute 'latitude_coordinate'"
     ]
    }
   ],
   "source": [
    "import csv\n",
    "with open('data.csv', \"w\") as csv_file:\n",
    "    \n",
    "    fieldnames = ['latitude_coordinate',\n",
    "                 'latitude_degree',\n",
    "                 'longitude_coordinate', \n",
    "                 'longitude_degree',\n",
    "                 'distance_km',\n",
    "                 'bearing_degrees']\n",
    "    \n",
    "    writer = csv.DictWriter(csv_file, fieldnames=fieldnames)\n",
    "    for line in ml:\n",
    "        print(line)\n",
    "        print(type(line))\n",
    "        writer.writerow({'latitude_coordinate': line.latitude_coordinate,\n",
    "                         'latitude_degree': line.latitude_degree,\n",
    "                         'longitude_coordinate': line.longitude_coordinate, \n",
    "                         'longitude_degree': line.longitude_degree,\n",
    "                         'distance_km': line.distance_km,\n",
    "                         'bearing_degrees': line.bearing_degrees})\n",
    "            \n",
    "# with open('data.csv', 'w') as csv_file:\n",
    "#     for line in ml:\n",
    "#        csv_file.write(line)\n"
   ]
  },
  {
   "cell_type": "markdown",
   "metadata": {
    "pycharm": {
     "metadata": false,
     "name": "#%% md\n"
    }
   },
   "source": [
    "### Connect to database\n"
   ]
  },
  {
   "cell_type": "code",
   "execution_count": null,
   "metadata": {
    "pycharm": {
     "metadata": false,
     "name": "#%% \n"
    }
   },
   "outputs": [],
   "source": [
    "import dataset\n",
    "from  decouple import config\n",
    "\n",
    "db_user = config('POSTGRES_USER')\n",
    "db_name = config('POSTGRES_DB') \n",
    "db_password = config('POSTGRES_PASSWORD')\n",
    "db_host = config('POSTGRES_HOST')\n",
    "string_connection = f'postgresql://{db_user}:{db_password}@{db_host}:5432/{db_name}'\n",
    "db = dataset.connect(string_connection)\n"
   ]
  },
  {
   "cell_type": "markdown",
   "metadata": {
    "pycharm": {
     "metadata": false,
     "name": "#%% md\n"
    }
   },
   "source": [
    "### Save all coordinates to database"
   ]
  },
  {
   "cell_type": "code",
   "execution_count": null,
   "metadata": {
    "pycharm": {
     "metadata": false,
     "name": "#%% \n"
    }
   },
   "outputs": [],
   "source": [
    "\n",
    "coordinate_table = db['coordinate_points']\n",
    "coordinate_table.insert({'latitude_coordinate': '30°00′49″S',\n",
    "                         'latitude_degree': -30.01351867,\n",
    "                         'longitude_coordinate': '51°15′45″W', \n",
    "                         'longitude_degree': -51.26242635,\n",
    "                         'distance_km': 4.9101,\n",
    "                         'bearing_degrees': 298.584}\n",
    "                        )\n",
    "\n",
    "# coordinate_table.insert({'latitude_coordinate': '30°00′49″S',\n",
    "#                          'latitude_degree': -30.01351867,\n",
    "#                          'longitude_coordinate': '51°15′45″W', \n",
    "#                          'longitude_degree': -51.26242635,\n",
    "#                          'distance_km': 4.9101,\n",
    "#                          'bearing_degrees': 298.584}\n",
    "#                         )\n",
    "\n",
    "\n",
    "\n"
   ]
  },
  {
   "cell_type": "markdown",
   "metadata": {
    "pycharm": {
     "metadata": false,
     "name": "#%% md\n"
    }
   },
   "source": [
    "## Save to database using dataset library\n",
    "\n",
    "\n",
    "import pandas as pd\n",
    "\n",
    "pd.read_csv\n"
   ]
  }
 ],
 "metadata": {
  "kernelspec": {
   "display_name": "Python 3",
   "language": "python",
   "name": "python3"
  },
  "language_info": {
   "codemirror_mode": {
    "name": "ipython",
    "version": 3
   },
   "file_extension": ".py",
   "mimetype": "text/x-python",
   "name": "python",
   "nbconvert_exporter": "python",
   "pygments_lexer": "ipython3",
   "version": "3.6.8"
  }
 },
 "nbformat": 4,
 "nbformat_minor": 1
}
