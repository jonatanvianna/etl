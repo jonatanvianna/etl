{
 "cells": [
  {
   "cell_type": "markdown",
   "source": [
    "## Extract Phase.\n",
    "#### Donwloads from datasource tar.gz files containing geographical coordinates, saves and extracts on a destination folder.\n",
    "The `extract_from_source()` is a python module that receives a url containing a `tar.gz` datasource, a destination directory and a flag to exctract the content.\n",
    "The output is files extracted at destination directory."
   ],
   "metadata": {
    "collapsed": false
   }
  },
  {
   "cell_type": "code",
   "execution_count": null,
   "outputs": [],
   "source": [
    "from extract.extract_targz_from_source import extract_from_source\n",
    "\n",
    "source = \"https://s3.amazonaws.com/dev.etl.python/datasets/data_points.tar.gz\"\n",
    "destination_path = \"/app/data_from_source\"\n",
    "extract = True\n",
    "\n",
    "extract_from_source(source, destination_path, extract)\n"
   ],
   "metadata": {
    "collapsed": false,
    "pycharm": {
     "name": "#%%\n"
    }
   }
  },
  {
   "cell_type": "markdown",
   "source": [
    "# Transform Phase"
   ],
   "metadata": {
    "collapsed": false
   }
  },
  {
   "cell_type": "markdown",
   "metadata": {
    "collapsed": true,
    "pycharm": {
     "name": "#%% md\n"
    }
   },
   "source": [
    "#### 1 - Reads a directory containing coordinates/points data files."
   ]
  },
  {
   "cell_type": "code",
   "execution_count": null,
   "outputs": [],
   "source": [
    "from transform.transform_raw_to_csv import get_data_files\n",
    "\n",
    "files_path = \"/app/data_from_source\"\n",
    "files = get_data_files(\"/app/data_from_source\")\n"
   ],
   "metadata": {
    "collapsed": false,
    "pycharm": {
     "name": "#%%\n"
    }
   }
  },
  {
   "cell_type": "markdown",
   "source": [
    "#### 2 - Prepares for cleaning, transforming file content to `List[List[str()]]`"
   ],
   "metadata": {
    "collapsed": false,
    "pycharm": {
     "name": "#%% md\n"
    }
   }
  },
  {
   "cell_type": "code",
   "execution_count": null,
   "outputs": [],
   "source": [
    "from transform.transform_raw_to_csv import wrangle_points_to_list\n",
    "\n",
    "data_files = []\n",
    "for file in files:\n",
    "    data_files.append(f\"{files_path}/{file}\")\n",
    "points_list = wrangle_points_to_list(data_files)\n",
    "print(points_list)\n"
   ],
   "metadata": {
    "collapsed": false,
    "pycharm": {
     "name": "#%%\n"
    }
   }
  },
  {
   "cell_type": "markdown",
   "source": [
    "#### 3 - Apply data detection using regexp and store in a`list[dict{}]`"
   ],
   "metadata": {
    "collapsed": false,
    "pycharm": {
     "name": "#%% md\n"
    }
   }
  },
  {
   "cell_type": "code",
   "execution_count": null,
   "outputs": [],
   "source": [
    "from transform.transform_raw_to_csv import convert_data_coordinates\n",
    "\n",
    "detected_points = convert_data_coordinates(points_list)\n",
    "\n",
    "print(detected_points)\n"
   ],
   "metadata": {
    "collapsed": false,
    "pycharm": {
     "name": "#%%\n"
    }
   }
  },
  {
   "cell_type": "markdown",
   "source": [
    "#### 4 - Remove duplicated dictionaries inside `detected_points` list."
   ],
   "metadata": {
    "collapsed": false,
    "pycharm": {
     "name": "#%% md\n"
    }
   }
  },
  {
   "cell_type": "code",
   "execution_count": null,
   "outputs": [],
   "source": [
    "from transform.transform_raw_to_csv import  remove_duplicates\n",
    "\n",
    "print(f\"Before deduplication {len(detected_points)}\")\n",
    "\n",
    "deduplicated_points = remove_duplicates(detected_points)\n",
    "\n",
    "print(f\"After deduplication {len(deduplicated_points)}\")\n",
    "print(deduplicated_points)\n"
   ],
   "metadata": {
    "collapsed": false,
    "pycharm": {
     "name": "#%%\n"
    }
   }
  },
  {
   "cell_type": "markdown",
   "source": [
    "#### 5 - Converts the `List[dict{}]` of deduplicated points in a csv file and saves at the disk."
   ],
   "metadata": {
    "collapsed": false,
    "pycharm": {
     "name": "#%% md\n"
    }
   }
  },
  {
   "cell_type": "code",
   "execution_count": null,
   "outputs": [],
   "source": [
    "from transform.transform_raw_to_csv import write_points_to_csv\n",
    "\n",
    "path_to_csv = \"/app/normalized_data/data.csv\"\n",
    "\n",
    "write_points_to_csv(deduplicated_points, path_to_csv)\n",
    "\n",
    "with open(path_to_csv, \"r\") as csv_file:\n",
    "    [print(line) for line in csv_file]\n"
   ],
   "metadata": {
    "collapsed": false,
    "pycharm": {
     "name": "#%%\n"
    }
   }
  },
  {
   "cell_type": "markdown",
   "source": [
    "#### 6 - Reads data from CSV file, converts and returns a Dataframe containing the values."
   ],
   "metadata": {
    "collapsed": false,
    "pycharm": {
     "name": "#%% md\n"
    }
   }
  },
  {
   "cell_type": "code",
   "execution_count": null,
   "outputs": [],
   "source": [
    "from transform.transform_csv_to_database import Converter\n",
    "\n",
    "converter = Converter(api_key=\"***REMOVED***\")\n",
    "dataset_from_csv = converter.get_coordinates_from_csv_file(path_to_csv)\n",
    "\n",
    "print(dataset_from_csv)"
   ],
   "metadata": {
    "collapsed": false,
    "pycharm": {
     "name": "#%%\n"
    }
   }
  },
  {
   "cell_type": "markdown",
   "source": [
    "#### 7 - Makes the API calls to retrieve data from latitude/longitude points and saves to database."
   ],
   "metadata": {
    "collapsed": false
   }
  },
  {
   "cell_type": "code",
   "execution_count": null,
   "outputs": [],
   "source": [
    "converter.save_dataset_coordinates_to_database(dataset_from_csv)\n"
   ],
   "metadata": {
    "collapsed": false,
    "pycharm": {
     "name": "#%%\n"
    }
   }
  },
  {
   "cell_type": "markdown",
   "source": [
    "## Load Phase\n",
    "#### 1 - Reads data from Database and displays in current Cell.\n"
   ],
   "metadata": {
    "collapsed": false,
    "pycharm": {
     "name": "#%% md\n"
    }
   }
  },
  {
   "cell_type": "code",
   "execution_count": null,
   "outputs": [],
   "source": [
    "import dataset\n",
    "from decouple import config\n",
    "from IPython.core.interactiveshell import InteractiveShell\n",
    "from IPython.display import display, HTML\n",
    "import pandas as pd\n",
    "\n",
    "InteractiveShell.ast_node_interactivity = \"all\"\n",
    "\n",
    "db_user = config(\"POSTGRES_USER\")\n",
    "db_name = config(\"POSTGRES_DB\")\n",
    "db_password = config(\"POSTGRES_PASSWORD\")\n",
    "db_host = config(\"POSTGRES_HOST\")\n",
    "string_connection = (f\"postgresql://{db_user}:{db_password}@{db_host}:5432/{db_name}\")\n",
    "\n",
    "db = dataset.connect(string_connection)\n",
    "\n",
    "with db.engine.connect() as conn, conn.begin():\n",
    "    data = pd.read_sql(\"addresses\", conn)\n",
    "    display(HTML(data.to_html()))\n",
    "\n"
   ],
   "metadata": {
    "collapsed": false,
    "pycharm": {
     "name": "#%%\n"
    }
   }
  }
 ],
 "metadata": {
  "language_info": {
   "codemirror_mode": {
    "name": "ipython",
    "version": 2
   },
   "file_extension": ".py",
   "mimetype": "text/x-python",
   "name": "python",
   "nbconvert_exporter": "python",
   "pygments_lexer": "ipython2",
   "version": "2.7.6"
  },
  "kernelspec": {
   "name": "pycharm-b44ac757",
   "language": "python",
   "display_name": "PyCharm (4all)"
  },
  "pycharm": {
   "stem_cell": {
    "cell_type": "raw",
    "source": [],
    "metadata": {
     "collapsed": false
    }
   }
  }
 },
 "nbformat": 4,
 "nbformat_minor": 0
}