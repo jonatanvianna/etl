{
  "cells": [
    {
      "cell_type": "code",
      "execution_count": 1,
      "metadata": {
        "collapsed": true,
        "pycharm": {
          "is_executing": false
        }
      },
      "outputs": [
        {
          "traceback": [
            "\u001b[0;31m---------------------------------------------------------------------------\u001b[0m",
            "\u001b[0;31mNameError\u001b[0m                                 Traceback (most recent call last)",
            "\u001b[0;32m\u003cipython-input-1-09590a862abe\u003e\u001b[0m in \u001b[0;36m\u003cmodule\u003e\u001b[0;34m\u001b[0m\n\u001b[0;32m----\u003e 1\u001b[0;31m \u001b[0;32mdef\u001b[0m \u001b[0mconvert_to_list\u001b[0m\u001b[0;34m(\u001b[0m\u001b[0mfiles\u001b[0m\u001b[0;34m:\u001b[0m \u001b[0mList\u001b[0m\u001b[0;34m[\u001b[0m\u001b[0mstr\u001b[0m\u001b[0;34m]\u001b[0m\u001b[0;34m,\u001b[0m \u001b[0mrange_of_line\u001b[0m\u001b[0;34m:\u001b[0m \u001b[0mint\u001b[0m \u001b[0;34m\u003d\u001b[0m \u001b[0;36m1\u001b[0m\u001b[0;34m)\u001b[0m \u001b[0;34m-\u003e\u001b[0m \u001b[0mList\u001b[0m\u001b[0;34m[\u001b[0m\u001b[0mList\u001b[0m\u001b[0;34m[\u001b[0m\u001b[0mstr\u001b[0m\u001b[0;34m]\u001b[0m\u001b[0;34m]\u001b[0m\u001b[0;34m:\u001b[0m\u001b[0;34m\u001b[0m\u001b[0;34m\u001b[0m\u001b[0m\n\u001b[0m\u001b[1;32m      2\u001b[0m     \u001b[0mmaster_list\u001b[0m \u001b[0;34m\u003d\u001b[0m \u001b[0;34m[\u001b[0m\u001b[0;34m]\u001b[0m\u001b[0;34m\u001b[0m\u001b[0;34m\u001b[0m\u001b[0m\n\u001b[1;32m      3\u001b[0m     \u001b[0;32mfor\u001b[0m \u001b[0mread_file\u001b[0m \u001b[0;32min\u001b[0m \u001b[0mfiles\u001b[0m\u001b[0;34m:\u001b[0m\u001b[0;34m\u001b[0m\u001b[0;34m\u001b[0m\u001b[0m\n\u001b[1;32m      4\u001b[0m         \u001b[0mline_list\u001b[0m \u001b[0;34m\u003d\u001b[0m \u001b[0;34m[\u001b[0m\u001b[0;34m]\u001b[0m\u001b[0;34m\u001b[0m\u001b[0;34m\u001b[0m\u001b[0m\n\u001b[1;32m      5\u001b[0m         \u001b[0;32mwith\u001b[0m \u001b[0mopen\u001b[0m\u001b[0;34m(\u001b[0m\u001b[0;34m\u0027data/\u0027\u001b[0m \u001b[0;34m+\u001b[0m \u001b[0mread_file\u001b[0m\u001b[0;34m,\u001b[0m \u001b[0;34m\u0027r\u0027\u001b[0m\u001b[0;34m)\u001b[0m \u001b[0;32mas\u001b[0m \u001b[0mfile\u001b[0m\u001b[0;34m:\u001b[0m\u001b[0;34m\u001b[0m\u001b[0;34m\u001b[0m\u001b[0m\n",
            "\u001b[0;31mNameError\u001b[0m: name \u0027List\u0027 is not defined"
          ],
          "ename": "NameError",
          "evalue": "name \u0027List\u0027 is not defined",
          "output_type": "error"
        }
      ],
      "source": "from typing import Union, Any, List, Optional, cast\nfrom extract import convert_to_list\n\npoints_list \u003d convert_to_list([\u0027data_points_20180101.txt\u0027, \u0027data_points_20180102.txt\u0027, \u0027data_points_20180103.txt\u0027], 3)\n"
    },
    {
      "cell_type": "code",
      "execution_count": 2,
      "outputs": [
        {
          "traceback": [
            "\u001b[0;31m---------------------------------------------------------------------------\u001b[0m",
            "\u001b[0;31mNameError\u001b[0m                                 Traceback (most recent call last)",
            "\u001b[0;32m\u003cipython-input-2-d83b2b388d3d\u003e\u001b[0m in \u001b[0;36m\u003cmodule\u003e\u001b[0;34m\u001b[0m\n\u001b[1;32m     10\u001b[0m \u001b[0;34m\u001b[0m\u001b[0m\n\u001b[1;32m     11\u001b[0m \u001b[0;34m\u001b[0m\u001b[0m\n\u001b[0;32m---\u003e 12\u001b[0;31m \u001b[0;32mdef\u001b[0m \u001b[0mconvert_coordinate_list_to_csv\u001b[0m\u001b[0;34m(\u001b[0m\u001b[0mmaster_list\u001b[0m\u001b[0;34m:\u001b[0m \u001b[0mList\u001b[0m\u001b[0;34m[\u001b[0m\u001b[0mList\u001b[0m\u001b[0;34m[\u001b[0m\u001b[0mstr\u001b[0m\u001b[0;34m]\u001b[0m\u001b[0;34m]\u001b[0m\u001b[0;34m)\u001b[0m \u001b[0;34m-\u003e\u001b[0m \u001b[0;32mNone\u001b[0m\u001b[0;34m:\u001b[0m\u001b[0;34m\u001b[0m\u001b[0;34m\u001b[0m\u001b[0m\n\u001b[0m\u001b[1;32m     13\u001b[0m     \u001b[0;34m\"\"\"Converts a file of coordinates into a csv file\"\"\"\u001b[0m\u001b[0;34m\u001b[0m\u001b[0;34m\u001b[0m\u001b[0m\n\u001b[1;32m     14\u001b[0m \u001b[0;34m\u001b[0m\u001b[0m\n",
            "\u001b[0;31mNameError\u001b[0m: name \u0027List\u0027 is not defined"
          ],
          "ename": "NameError",
          "evalue": "name \u0027List\u0027 is not defined",
          "output_type": "error"
        }
      ],
      "source": "\nimport re\nfrom typing import Union, Any, List, Optional, cast\n\nCOORDINATES \u003d r\u0027(\\d+.?\\d+.?\\d+.?[S|N|W|E])\\s*\u0027\nDECIMAL \u003d r\u0027(-?\\d+\\.?\\d+)\u0027\nCAPTURE_LONGITUDE \u003d re.compile(rf\u0027(\\s*Longitude:)\\s*{COORDINATES}{DECIMAL}\u0027)\nCAPTURE_LATITUDE \u003d re.compile(rf\u0027(\\s*Latitude:\\s*){COORDINATES}{DECIMAL}\u0027)\nCAPTURE_DISTANCE \u003d re.compile(rf\u0027(\\s*Distance:\\s*){DECIMAL}\u0027)\nCAPTURE_BEARING \u003d re.compile(rf\u0027(\\s*Bearing:\\s*){DECIMAL}\u0027)\n\n\ndef convert_coordinate_list_to_csv(master_list: List[List[str]]) -\u003e None:\n    \"\"\"Converts a file of coordinates into a csv file\"\"\"\n\n    # with open(\u0027data.csv\u0027, \u0027w\u0027) as csv_file:\n\n    for n, line_list in enumerate(master_list):\n        # Initializing variables, if none is used a dash is placed\n        latitude_coordinate \u003d \u0027-\u0027\n        latitude_degree \u003d \u0027-\u0027\n        longitude_coordinate \u003d \u0027-\u0027\n        longitude_degree \u003d \u0027-\u0027\n        distance_km \u003d \u0027-\u0027\n        bearing_degrees \u003d \u0027-\u0027\n\n        for i in line_list:\n            latitude \u003d re.search(CAPTURE_LATITUDE, i)\n            longitude \u003d re.search(CAPTURE_LONGITUDE, i)\n            distance \u003d re.search(CAPTURE_DISTANCE, i)\n            bearing \u003d re.search(CAPTURE_BEARING, i)\n\n            # pdb.set_trace()\n            if latitude:\n                latitude_coordinate \u003d latitude.group(2)\n                latitude_degree \u003d latitude.group(3)\n\n            elif longitude:\n                longitude_coordinate \u003d longitude.group(2)\n                longitude_degree \u003d longitude.group(3)\n\n            if distance:\n                distance_km \u003d distance.group(2)\n\n            if bearing:\n                bearing_degrees \u003d bearing.group(2)\n\n        print(f\" {n} {latitude_coordinate}, {latitude_degree}, {longitude_coordinate}, {longitude_degree}, {distance_km}, {bearing_degrees}\")\n\n        # assert len(line_list) \u003d\u003d 3, f\"Length of line_list is 3, but {len(line_list)}\"\n        # assert len(master_list) \u003d\u003d 998, f\"Length of master_list is 3, but {len(master_list)}\"\nconvert_coordinate_list_to_csv(points_list)\n",
      "metadata": {
        "pycharm": {
          "metadata": false,
          "name": "#%%\n",
          "is_executing": false
        }
      }
    },
    {
      "cell_type": "code",
      "execution_count": null,
      "outputs": [],
      "source": "## Save to database using dataset library\nimport dataset\n",
      "metadata": {
        "pycharm": {
          "metadata": false,
          "name": "#%%\n"
        }
      }
    },
    {
      "cell_type": "markdown",
      "source": "# ",
      "metadata": {
        "pycharm": {
          "metadata": false
        }
      }
    },
    {
      "cell_type": "raw",
      "source": "\n",
      "metadata": {
        "pycharm": {
          "metadata": false
        }
      }
    }
  ],
  "metadata": {
    "language_info": {
      "codemirror_mode": {
        "name": "ipython",
        "version": 2
      },
      "file_extension": ".py",
      "mimetype": "text/x-python",
      "name": "python",
      "nbconvert_exporter": "python",
      "pygments_lexer": "ipython2",
      "version": "2.7.6"
    },
    "kernelspec": {
      "name": "python3",
      "language": "python",
      "display_name": "Python 3"
    }
  },
  "nbformat": 4,
  "nbformat_minor": 0
}