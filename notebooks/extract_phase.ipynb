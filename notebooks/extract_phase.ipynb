{
 "cells": [
  {
   "cell_type": "code",
   "execution_count": null,
   "metadata": {
    "pycharm": {
     "is_executing": false
    }
   },
   "outputs": [],
   "source": [
    "from typing import Union, Any, List, Optional, cast\n",
    "from extract import convert_to_list\n",
    "\n",
    "points_list = convert_to_list(['data_points_20180101.txt', 'data_points_20180102.txt', 'data_points_20180103.txt'], 3)\n"
   ]
  },
  {
   "cell_type": "code",
   "execution_count": null,
   "metadata": {
    "pycharm": {
     "is_executing": false,
     "metadata": false,
     "name": "#%%\n"
    }
   },
   "outputs": [],
   "source": [
    "\n",
    "import re\n",
    "from typing import Union, Any, List, Optional, cast\n",
    "\n",
    "COORDINATES = r'(\\d+.?\\d+.?\\d+.?[S|N|W|E])\\s*'\n",
    "DECIMAL = r'(-?\\d+\\.?\\d+)'\n",
    "CAPTURE_LONGITUDE = re.compile(rf'(\\s*Longitude:)\\s*{COORDINATES}{DECIMAL}')\n",
    "CAPTURE_LATITUDE = re.compile(rf'(\\s*Latitude:\\s*){COORDINATES}{DECIMAL}')\n",
    "CAPTURE_DISTANCE = re.compile(rf'(\\s*Distance:\\s*){DECIMAL}')\n",
    "CAPTURE_BEARING = re.compile(rf'(\\s*Bearing:\\s*){DECIMAL}')\n",
    "\n",
    "\n",
    "def convert_coordinate_list_to_csv(master_list: List[List[str]]) -> None:\n",
    "    \"\"\"Converts a file of coordinates into a csv file\"\"\"\n",
    "\n",
    "    # with open('data.csv', 'w') as csv_file:\n",
    "\n",
    "    for n, line_list in enumerate(master_list):\n",
    "        # Initializing variables, if none is used a dash is placed\n",
    "        latitude_coordinate = '-'\n",
    "        latitude_degree = '-'\n",
    "        longitude_coordinate = '-'\n",
    "        longitude_degree = '-'\n",
    "        distance_km = '-'\n",
    "        bearing_degrees = '-'\n",
    "\n",
    "        for i in line_list:\n",
    "            latitude = re.search(CAPTURE_LATITUDE, i)\n",
    "            longitude = re.search(CAPTURE_LONGITUDE, i)\n",
    "            distance = re.search(CAPTURE_DISTANCE, i)\n",
    "            bearing = re.search(CAPTURE_BEARING, i)\n",
    "\n",
    "            # pdb.set_trace()\n",
    "            if latitude:\n",
    "                latitude_coordinate = latitude.group(2)\n",
    "                latitude_degree = latitude.group(3)\n",
    "\n",
    "            elif longitude:\n",
    "                longitude_coordinate = longitude.group(2)\n",
    "                longitude_degree = longitude.group(3)\n",
    "\n",
    "            if distance:\n",
    "                distance_km = distance.group(2)\n",
    "\n",
    "            if bearing:\n",
    "                bearing_degrees = bearing.group(2)\n",
    "\n",
    "        print(f\" {n} {latitude_coordinate}, {latitude_degree}, {longitude_coordinate}, {longitude_degree}, {distance_km}, {bearing_degrees}\")\n",
    "\n",
    "        # assert len(line_list) == 3, f\"Length of line_list is 3, but {len(line_list)}\"\n",
    "        # assert len(master_list) == 998, f\"Length of master_list is 3, but {len(master_list)}\"\n",
    "convert_coordinate_list_to_csv(points_list)\n"
   ]
  },
  {
   "cell_type": "code",
   "execution_count": null,
   "metadata": {
    "pycharm": {
     "metadata": false,
     "name": "#%%\n"
    }
   },
   "outputs": [],
   "source": [
    "## Save to database using dataset library\n",
    "import dataset\n"
   ]
  },
  {
   "cell_type": "markdown",
   "metadata": {
    "pycharm": {
     "metadata": false
    }
   },
   "source": [
    "# "
   ]
  },
  {
   "cell_type": "raw",
   "metadata": {
    "pycharm": {
     "metadata": false
    }
   },
   "source": [
    "\n"
   ]
  }
 ],
 "metadata": {
  "kernelspec": {
   "display_name": "Python 3",
   "language": "python",
   "name": "python3"
  },
  "language_info": {
   "codemirror_mode": {
    "name": "ipython",
    "version": 3
   },
   "file_extension": ".py",
   "mimetype": "text/x-python",
   "name": "python",
   "nbconvert_exporter": "python",
   "pygments_lexer": "ipython3",
   "version": "3.6.8"
  }
 },
 "nbformat": 4,
 "nbformat_minor": 1
}
