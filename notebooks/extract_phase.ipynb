{
 "cells": [
  {
   "cell_type": "markdown",
   "metadata": {
    "pycharm": {
     "metadata": false,
     "name": "#%% md\n"
    }
   },
   "source": [
    "## Extract Phase.\n",
    "## Receives a raw file containing geographical coordinates and saves it in a csv file."
   ]
  },
  {
   "cell_type": "markdown",
   "metadata": {
    "pycharm": {
     "metadata": false,
     "name": "#%% md\n"
    }
   },
   "source": [
    "### 1.Reads a certain directory that contains coordinates/points data files"
   ]
  },
  {
   "cell_type": "code",
   "execution_count": 8,
   "metadata": {
    "pycharm": {
     "metadata": false,
     "name": "#%%\n"
    }
   },
   "outputs": [],
   "source": [
    "import os\n",
    "\n",
    "def get_data_files(path_directory):\n",
    "    \"\"\"Gets all files in a directory\n",
    "\n",
    "    :returns A list containing data files names\n",
    "    \"\"\"\n",
    "    return os.listdir(path_directory)\n",
    "\n",
    "data_files = get_data_files('../data')"
   ]
  },
  {
   "cell_type": "markdown",
   "metadata": {
    "pycharm": {
     "metadata": false,
     "name": "#%% md\n"
    }
   },
   "source": [
    "### Converts"
   ]
  },
  {
   "cell_type": "code",
   "execution_count": 9,
   "metadata": {
    "pycharm": {
     "is_executing": false
    }
   },
   "outputs": [
    {
     "name": "stdout",
     "output_type": "stream",
     "text": [
      "2997\n"
     ]
    }
   ],
   "source": [
    "def wrangle_points_to_list(files, line_range=3):\n",
    "    \"\"\"Iterates over a raw file containing coordinates in blocks of 3 lines\n",
    "\n",
    "    :returns A list containing raw lines of coordinates\n",
    "    \"\"\"\n",
    "    raw_points_list = []\n",
    "\n",
    "    for read_file in files:\n",
    "        line_list = []\n",
    "        with open('../data/' + read_file, 'r') as file:\n",
    "            if file.readable():\n",
    "                count = line_range\n",
    "                for line in file:\n",
    "                    line_list.append(line.replace('\\n', ''))\n",
    "                    count -= 1\n",
    "                    if not count:\n",
    "                        raw_points_list.append(line_list)\n",
    "                        line_list = []\n",
    "                        count = line_range\n",
    "    return raw_points_list\n",
    "\n",
    "raw_points_list = wrangle_points_to_list(data_files, 3)\n",
    "print(len(raw_points_list))\n"
   ]
  },
  {
   "cell_type": "code",
   "execution_count": 10,
   "metadata": {
    "pycharm": {
     "is_executing": false,
     "metadata": false,
     "name": "#%%\n"
    }
   },
   "outputs": [],
   "source": [
    "import re\n",
    "\n",
    "COORDINATES = r'(\\d+.?\\d+.?\\d+.?[S|N|W|E])\\s*'\n",
    "DECIMAL = r'(-?\\d+\\.?\\d+)'\n",
    "CAPTURE_LONGITUDE = re.compile(rf'(\\s*Longitude:)\\s*{COORDINATES}{DECIMAL}')\n",
    "CAPTURE_LATITUDE = re.compile(rf'(\\s*Latitude:\\s*){COORDINATES}{DECIMAL}')\n",
    "CAPTURE_DISTANCE = re.compile(rf'(\\s*Distance:\\s*){DECIMAL}')\n",
    "CAPTURE_BEARING = re.compile(rf'(\\s*Bearing:\\s*){DECIMAL}')\n",
    "\n",
    "\n",
    "def convert_data_coordinates(raw_points_list):\n",
    "    \"\"\"Converts raw coordinates into a list of type converted data.\n",
    "\n",
    "    latitude_coordinate - str()\n",
    "    latitude_degree - float()\n",
    "    longitude_coordinate - str()\n",
    "    longitude_degree - float()\n",
    "    distance_km - float()\n",
    "    bearing_degrees - float()\n",
    "\n",
    "    :returns A list of dicts\n",
    "    \"\"\"\n",
    "    converted_points_list = []\n",
    "    for n, line_list in enumerate(raw_points_list):\n",
    "        # Initializing variables, if no data is found a dash is placed\n",
    "        latitude_coordinate = '-'\n",
    "        latitude_degree = '-'\n",
    "        longitude_coordinate = '-'\n",
    "        longitude_degree = '-'\n",
    "        distance_km = '-'\n",
    "        bearing_degrees = '-'\n",
    "\n",
    "        for line in line_list:\n",
    "            latitude = re.search(CAPTURE_LATITUDE, line)\n",
    "            longitude = re.search(CAPTURE_LONGITUDE, line)\n",
    "            distance = re.search(CAPTURE_DISTANCE, line)\n",
    "            bearing = re.search(CAPTURE_BEARING, line)\n",
    "\n",
    "            if latitude:\n",
    "                latitude_coordinate = latitude.group(2)\n",
    "                latitude_degree = latitude.group(3)\n",
    "\n",
    "            elif longitude:\n",
    "                longitude_coordinate = longitude.group(2)\n",
    "                longitude_degree = longitude.group(3)\n",
    "\n",
    "            if distance:\n",
    "                distance_km = distance.group(2)\n",
    "\n",
    "            if bearing:\n",
    "                bearing_degrees = bearing.group(2)\n",
    "\n",
    "\n",
    "        points = [latitude_coordinate, latitude_degree, longitude_coordinate,\n",
    "                  longitude_degree, distance_km, bearing_degrees ]\n",
    "\n",
    "\n",
    "        if not '-' in points:\n",
    "            converted_points_list.append({'latitude_coordinate': latitude_coordinate,\n",
    "                     'latitude_degree': float(latitude_degree),\n",
    "                     'longitude_coordinate': longitude_coordinate,\n",
    "                     'longitude_degree': float(longitude_degree),\n",
    "                     'distance_km': float(distance_km),\n",
    "                     'bearing_degrees': float(bearing_degrees)})\n",
    "\n",
    "    return converted_points_list\n",
    "\n",
    "converted_points_list = convert_data_coordinates(raw_points_list)\n"
   ]
  },
  {
   "cell_type": "markdown",
   "metadata": {
    "pycharm": {
     "metadata": false,
     "name": "#%% md\n"
    }
   },
   "source": [
    "### Remove duplicates"
   ]
  },
  {
   "cell_type": "code",
   "execution_count": 11,
   "metadata": {
    "pycharm": {
     "metadata": false,
     "name": "#%%\n"
    }
   },
   "outputs": [
    {
     "name": "stdout",
     "output_type": "stream",
     "text": [
      "Before deduplication: 2991\n",
      "After deduplication: 2991\n"
     ]
    }
   ],
   "source": [
    "def remove_duplicates(converted_points_list):\n",
    "    \"\"\"Removes duplicated coordinates\n",
    "\n",
    "    :returns A list containing deduplicated dicts of coordinates\n",
    "    \"\"\"\n",
    "    seen = set()\n",
    "    deduplicated_points = []\n",
    "    print(f'Before deduplication: {len(converted_points_list)}')\n",
    "    for line in converted_points_list:\n",
    "        line_tuple = tuple(line.items())\n",
    "        if line_tuple not in seen:\n",
    "            seen.add(line_tuple)\n",
    "            deduplicated_points.append(line)\n",
    "    print(f'After deduplication: {len(deduplicated_points)}')\n",
    "    return deduplicated_points\n",
    "\n",
    "deduplicated_points_list = remove_duplicates(converted_points_list)\n"
   ]
  },
  {
   "cell_type": "markdown",
   "metadata": {
    "pycharm": {
     "metadata": false,
     "name": "#%% md\n"
    }
   },
   "source": [
    "### Write to csv file"
   ]
  },
  {
   "cell_type": "code",
   "execution_count": 12,
   "metadata": {
    "pycharm": {
     "metadata": false,
     "name": "#%%\n"
    }
   },
   "outputs": [],
   "source": [
    "import csv\n",
    "\n",
    "def write_points_to_csv(deduplicated_points_list, path='../normalizated_data/'):\n",
    "    \"\"\"Saves CSV files from a normalizated list of dict containing coorddinates\"\"\"\n",
    "\n",
    "    with open(f'{path}data.csv', \"w\") as csv_file:\n",
    "        fieldnames = ['latitude_coordinate',\n",
    "                     'latitude_degree',\n",
    "                     'longitude_coordinate',\n",
    "                     'longitude_degree',\n",
    "                     'distance_km',\n",
    "                     'bearing_degrees']\n",
    "\n",
    "        writer = csv.DictWriter(csv_file, fieldnames=fieldnames)\n",
    "        for line in deduplicated_points_list:\n",
    "            writer.writerow({'latitude_coordinate': line.get('latitude_coordinate'),\n",
    "                             'latitude_degree': line.get('latitude_degree'),\n",
    "                             'longitude_coordinate': line.get('longitude_coordinate'),\n",
    "                             'longitude_degree': line.get('longitude_degree'),\n",
    "                             'distance_km': line.get('distance_km'),\n",
    "                             'bearing_degrees': line.get('bearing_degrees')})\n",
    "\n",
    "write_points_to_csv(deduplicated_points_list)\n"
   ]
  },
  {
   "cell_type": "markdown",
   "metadata": {
    "pycharm": {
     "metadata": false,
     "name": "#%% md\n"
    }
   },
   "source": [
    "### Connect to database"
   ]
  },
  {
   "cell_type": "code",
   "execution_count": 13,
   "metadata": {
    "pycharm": {
     "metadata": false,
     "name": "#%%\n"
    }
   },
   "outputs": [
    {
     "name": "stdout",
     "output_type": "stream",
     "text": [
      "Databases: ['coordinate_points']\n"
     ]
    }
   ],
   "source": [
    "import dataset\n",
    "from  decouple import config\n",
    "\n",
    "db_user = config('POSTGRES_USER')\n",
    "db_name = config('POSTGRES_DB')\n",
    "db_password = config('POSTGRES_PASSWORD')\n",
    "db_host = config('POSTGRES_HOST')\n",
    "string_connection = f'postgresql://{db_user}:{db_password}@{db_host}:5432/{db_name}'\n",
    "db = dataset.connect(string_connection)\n",
    "\n",
    "print(f'Databases: {db.tables}')\n"
   ]
  },
  {
   "cell_type": "markdown",
   "metadata": {
    "pycharm": {
     "metadata": false,
     "name": "#%% md\n"
    }
   },
   "source": [
    "### Save all coordinates to database"
   ]
  },
  {
   "cell_type": "code",
   "execution_count": 14,
   "metadata": {
    "pycharm": {
     "metadata": false,
     "name": "#%%\n"
    }
   },
   "outputs": [],
   "source": [
    "coordinate_table = db['coordinate_points']\n",
    "\n",
    "for i in deduplicated_points_list:\n",
    "\n",
    "    coordinate_table.insert({'latitude_coordinate': i.get('latitude_coordinate'),\n",
    "                             'latitude_degree': i.get('latitude_degree'),\n",
    "                             'longitude_coordinate': i.get('longitude_coordinate'),\n",
    "                             'longitude_degree': i.get('longitude_degree'),\n",
    "                             'distance_km': i.get('distance_km'),\n",
    "                             'bearing_degrees': i.get('bearing_degrees')})\n"
   ]
  }
 ],
 "metadata": {
  "kernelspec": {
   "display_name": "Python 3",
   "language": "python",
   "name": "python3"
  },
  "language_info": {
   "codemirror_mode": {
    "name": "ipython",
    "version": 3
   },
   "file_extension": ".py",
   "mimetype": "text/x-python",
   "name": "python",
   "nbconvert_exporter": "python",
   "pygments_lexer": "ipython3",
   "version": "3.6.8"
  },
  "stem_cell": {
   "cell_type": "raw",
   "metadata": {
    "pycharm": {
     "metadata": false
    }
   },
   "source": ""
  }
 },
 "nbformat": 4,
 "nbformat_minor": 1
}
