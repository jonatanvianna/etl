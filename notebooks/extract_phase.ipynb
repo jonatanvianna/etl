{
  "cells": [
    {
      "cell_type": "markdown",
      "metadata": {
        "pycharm": {
          "metadata": false,
          "name": "#%% md\n"
        }
      },
      "source": [
        "## Extract Phase.\n",
        "## Receives a raw file containing geographical coordinates and saves it in a csv file."
      ]
    },
    {
      "cell_type": "markdown",
      "metadata": {
        "pycharm": {
          "metadata": false,
          "name": "#%% md\n"
        }
      },
      "source": [
        "### 1.Reads a certain directory that contains coordinates/points data files"
      ]
    },
    {
      "cell_type": "code",
      "execution_count": 8,
      "metadata": {
        "pycharm": {
          "metadata": false,
          "name": "#%%\n"
        }
      },
      "outputs": [],
      "source": [
        "import os\n",
        "\n",
        "def get_data_files(path_directory):\n",
        "    \"\"\"Gets all files in a directory\n",
        "\n",
        "    :returns A list containing data files names\n",
        "    \"\"\"\n",
        "    return os.listdir(path_directory)\n",
        "\n",
        "data_files \u003d get_data_files(\u0027../data\u0027)"
      ]
    },
    {
      "cell_type": "markdown",
      "metadata": {
        "pycharm": {
          "metadata": false,
          "name": "#%% md\n"
        }
      },
      "source": [
        "### Converts"
      ]
    },
    {
      "cell_type": "code",
      "execution_count": 9,
      "metadata": {
        "pycharm": {
          "is_executing": false
        }
      },
      "outputs": [
        {
          "name": "stdout",
          "output_type": "stream",
          "text": [
            "2997\n"
          ]
        }
      ],
      "source": [
        "def wrangle_points_to_list(files, line_range\u003d3):\n",
        "    \"\"\"Iterates over a raw file containing coordinates in blocks of 3 lines\n",
        "\n",
        "    :returns A list containing raw lines of coordinates\n",
        "    \"\"\"\n",
        "    raw_points_list \u003d []\n",
        "\n",
        "    for read_file in files:\n",
        "        line_list \u003d []\n",
        "        with open(\u0027../data/\u0027 + read_file, \u0027r\u0027) as file:\n",
        "            if file.readable():\n",
        "                count \u003d line_range\n",
        "                for line in file:\n",
        "                    line_list.append(line.replace(\u0027\\n\u0027, \u0027\u0027))\n",
        "                    count -\u003d 1\n",
        "                    if not count:\n",
        "                        raw_points_list.append(line_list)\n",
        "                        line_list \u003d []\n",
        "                        count \u003d line_range\n",
        "    return raw_points_list\n",
        "\n",
        "raw_points_list \u003d wrangle_points_to_list(data_files, 3)\n",
        "print(len(raw_points_list))\n"
      ]
    },
    {
      "cell_type": "code",
      "execution_count": 10,
      "metadata": {
        "pycharm": {
          "is_executing": false,
          "metadata": false,
          "name": "#%%\n"
        }
      },
      "outputs": [],
      "source": [
        "import re\n",
        "\n",
        "COORDINATES \u003d r\u0027(\\d+.?\\d+.?\\d+.?[S|N|W|E])\\s*\u0027\n",
        "DECIMAL \u003d r\u0027(-?\\d+\\.?\\d+)\u0027\n",
        "CAPTURE_LONGITUDE \u003d re.compile(rf\u0027(\\s*Longitude:)\\s*{COORDINATES}{DECIMAL}\u0027)\n",
        "CAPTURE_LATITUDE \u003d re.compile(rf\u0027(\\s*Latitude:\\s*){COORDINATES}{DECIMAL}\u0027)\n",
        "CAPTURE_DISTANCE \u003d re.compile(rf\u0027(\\s*Distance:\\s*){DECIMAL}\u0027)\n",
        "CAPTURE_BEARING \u003d re.compile(rf\u0027(\\s*Bearing:\\s*){DECIMAL}\u0027)\n",
        "\n",
        "\n",
        "def convert_data_coordinates(raw_points_list):\n",
        "    \"\"\"Converts raw coordinates into a list of type converted data.\n",
        "\n",
        "    latitude_coordinate - str()\n",
        "    latitude_degree - float()\n",
        "    longitude_coordinate - str()\n",
        "    longitude_degree - float()\n",
        "    distance_km - float()\n",
        "    bearing_degrees - float()\n",
        "\n",
        "    :returns A list of dicts\n",
        "    \"\"\"\n",
        "    converted_points_list \u003d []\n",
        "    for n, line_list in enumerate(raw_points_list):\n",
        "        # Initializing variables, if no data is found a dash is placed\n",
        "        latitude_coordinate \u003d \u0027-\u0027\n",
        "        latitude_degree \u003d \u0027-\u0027\n",
        "        longitude_coordinate \u003d \u0027-\u0027\n",
        "        longitude_degree \u003d \u0027-\u0027\n",
        "        distance_km \u003d \u0027-\u0027\n",
        "        bearing_degrees \u003d \u0027-\u0027\n",
        "\n",
        "        for line in line_list:\n",
        "            latitude \u003d re.search(CAPTURE_LATITUDE, line)\n",
        "            longitude \u003d re.search(CAPTURE_LONGITUDE, line)\n",
        "            distance \u003d re.search(CAPTURE_DISTANCE, line)\n",
        "            bearing \u003d re.search(CAPTURE_BEARING, line)\n",
        "\n",
        "            if latitude:\n",
        "                latitude_coordinate \u003d latitude.group(2)\n",
        "                latitude_degree \u003d latitude.group(3)\n",
        "\n",
        "            elif longitude:\n",
        "                longitude_coordinate \u003d longitude.group(2)\n",
        "                longitude_degree \u003d longitude.group(3)\n",
        "\n",
        "            if distance:\n",
        "                distance_km \u003d distance.group(2)\n",
        "\n",
        "            if bearing:\n",
        "                bearing_degrees \u003d bearing.group(2)\n",
        "\n",
        "\n",
        "        points \u003d [latitude_coordinate, latitude_degree, longitude_coordinate,\n",
        "                  longitude_degree, distance_km, bearing_degrees ]\n",
        "\n",
        "\n",
        "        if not \u0027-\u0027 in points:\n",
        "            converted_points_list.append({\u0027latitude_coordinate\u0027: latitude_coordinate,\n",
        "                     \u0027latitude_degree\u0027: float(latitude_degree),\n",
        "                     \u0027longitude_coordinate\u0027: longitude_coordinate,\n",
        "                     \u0027longitude_degree\u0027: float(longitude_degree),\n",
        "                     \u0027distance_km\u0027: float(distance_km),\n",
        "                     \u0027bearing_degrees\u0027: float(bearing_degrees)})\n",
        "\n",
        "    return converted_points_list\n",
        "\n",
        "converted_points_list \u003d convert_data_coordinates(raw_points_list)\n"
      ]
    },
    {
      "cell_type": "markdown",
      "metadata": {
        "pycharm": {
          "metadata": false,
          "name": "#%% md\n"
        }
      },
      "source": [
        "### Remove duplicates"
      ]
    },
    {
      "cell_type": "code",
      "execution_count": 11,
      "metadata": {
        "pycharm": {
          "metadata": false,
          "name": "#%%\n"
        }
      },
      "outputs": [
        {
          "name": "stdout",
          "output_type": "stream",
          "text": [
            "Before deduplication: 2991\n",
            "After deduplication: 2991\n"
          ]
        }
      ],
      "source": [
        "def remove_duplicates(converted_points_list):\n",
        "    \"\"\"Removes duplicated coordinates\n",
        "\n",
        "    :returns A list containing deduplicated dicts of coordinates\n",
        "    \"\"\"\n",
        "    seen \u003d set()\n",
        "    deduplicated_points \u003d []\n",
        "    print(f\u0027Before deduplication: {len(converted_points_list)}\u0027)\n",
        "    for line in converted_points_list:\n",
        "        line_tuple \u003d tuple(line.items())\n",
        "        if line_tuple not in seen:\n",
        "            seen.add(line_tuple)\n",
        "            deduplicated_points.append(line)\n",
        "    print(f\u0027After deduplication: {len(deduplicated_points)}\u0027)\n",
        "    return deduplicated_points\n",
        "\n",
        "deduplicated_points_list \u003d remove_duplicates(converted_points_list)\n"
      ]
    },
    {
      "cell_type": "markdown",
      "metadata": {
        "pycharm": {
          "metadata": false,
          "name": "#%% md\n"
        }
      },
      "source": [
        "### Write to csv file"
      ]
    },
    {
      "cell_type": "code",
      "execution_count": 12,
      "metadata": {
        "pycharm": {
          "metadata": false,
          "name": "#%%\n"
        }
      },
      "outputs": [],
      "source": [
        "import csv\n",
        "\n",
        "def write_points_to_csv(deduplicated_points_list, path\u003d\u0027../normalizated_data/\u0027):\n",
        "    \"\"\"Saves CSV files from a normalizated list of dict containing coorddinates\"\"\"\n",
        "\n",
        "    with open(f\u0027{path}data.csv\u0027, \"w\") as csv_file:\n",
        "        fieldnames \u003d [\u0027latitude_coordinate\u0027,\n",
        "                     \u0027latitude_degree\u0027,\n",
        "                     \u0027longitude_coordinate\u0027,\n",
        "                     \u0027longitude_degree\u0027,\n",
        "                     \u0027distance_km\u0027,\n",
        "                     \u0027bearing_degrees\u0027]\n",
        "\n",
        "        writer \u003d csv.DictWriter(csv_file, fieldnames\u003dfieldnames)\n",
        "        for line in deduplicated_points_list:\n",
        "            writer.writerow({\u0027latitude_coordinate\u0027: line.get(\u0027latitude_coordinate\u0027),\n",
        "                             \u0027latitude_degree\u0027: line.get(\u0027latitude_degree\u0027),\n",
        "                             \u0027longitude_coordinate\u0027: line.get(\u0027longitude_coordinate\u0027),\n",
        "                             \u0027longitude_degree\u0027: line.get(\u0027longitude_degree\u0027),\n",
        "                             \u0027distance_km\u0027: line.get(\u0027distance_km\u0027),\n",
        "                             \u0027bearing_degrees\u0027: line.get(\u0027bearing_degrees\u0027)})\n",
        "\n",
        "write_points_to_csv(deduplicated_points_list)\n"
      ]
    },
    {
      "cell_type": "markdown",
      "metadata": {
        "pycharm": {
          "metadata": false,
          "name": "#%% md\n"
        }
      },
      "source": [
        "### Connect to database"
      ]
    },
    {
      "cell_type": "code",
      "execution_count": 13,
      "metadata": {
        "pycharm": {
          "metadata": false,
          "name": "#%%\n"
        }
      },
      "outputs": [
        {
          "name": "stdout",
          "output_type": "stream",
          "text": [
            "Databases: [\u0027coordinate_points\u0027]\n"
          ]
        }
      ],
      "source": [
        "import dataset\n",
        "from  decouple import config\n",
        "\n",
        "db_user \u003d config(\u0027POSTGRES_USER\u0027)\n",
        "db_name \u003d config(\u0027POSTGRES_DB\u0027)\n",
        "db_password \u003d config(\u0027POSTGRES_PASSWORD\u0027)\n",
        "db_host \u003d config(\u0027POSTGRES_HOST\u0027)\n",
        "string_connection \u003d f\u0027postgresql://{db_user}:{db_password}@{db_host}:5432/{db_name}\u0027\n",
        "db \u003d dataset.connect(string_connection)\n",
        "\n",
        "print(f\u0027Databases: {db.tables}\u0027)\n"
      ]
    },
    {
      "cell_type": "markdown",
      "metadata": {
        "pycharm": {
          "metadata": false,
          "name": "#%% md\n"
        }
      },
      "source": [
        "### Save all coordinates to database"
      ]
    },
    {
      "cell_type": "code",
      "execution_count": 14,
      "metadata": {
        "pycharm": {
          "metadata": false,
          "name": "#%%\n"
        }
      },
      "outputs": [],
      "source": "coordinate_table \u003d db[\u0027coordinate_points\u0027]\n\nfor i in deduplicated_points_list:\n\n    coordinate_table.insert({\u0027latitude_coordinate\u0027: i.get(\u0027latitude_coordinate\u0027),\n                             \u0027latitude_degree\u0027: i.get(\u0027latitude_degree\u0027),\n                             \u0027longitude_coordinate\u0027: i.get(\u0027longitude_coordinate\u0027),\n                             \u0027longitude_degree\u0027: i.get(\u0027longitude_degree\u0027),\n                             \u0027distance_km\u0027: i.get(\u0027distance_km\u0027),\n                             \u0027bearing_degrees\u0027: i.get(\u0027bearing_degrees\u0027)})\n"
    },
    {
      "cell_type": "code",
      "execution_count": null,
      "outputs": [],
      "source": "import pandas as pd\ncsv \u003d pd.read_csv(\u0027normalizated_data/data.csv\u0027, usecols\u003d[\u0027latitude_degree\u0027, \u0027longitude_degree\u0027])\ncsv\n",
      "metadata": {
        "pycharm": {
          "metadata": false,
          "name": "#%%\n"
        }
      }
    }
  ],
  "metadata": {
    "kernelspec": {
      "display_name": "Python 3",
      "language": "python",
      "name": "python3"
    },
    "language_info": {
      "codemirror_mode": {
        "name": "ipython",
        "version": 3
      },
      "file_extension": ".py",
      "mimetype": "text/x-python",
      "name": "python",
      "nbconvert_exporter": "python",
      "pygments_lexer": "ipython3",
      "version": "3.6.8"
    },
    "stem_cell": {
      "cell_type": "raw",
      "metadata": {
        "pycharm": {
          "metadata": false
        }
      },
      "source": ""
    }
  },
  "nbformat": 4,
  "nbformat_minor": 1
}